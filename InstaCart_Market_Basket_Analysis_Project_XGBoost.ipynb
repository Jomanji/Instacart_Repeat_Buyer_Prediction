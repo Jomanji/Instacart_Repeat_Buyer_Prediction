{
 "cells": [
  {
   "cell_type": "code",
   "execution_count": 1,
   "metadata": {
    "collapsed": true
   },
   "outputs": [],
   "source": [
    "import os\n",
    "mingw_path = 'C:\\\\Program Files\\\\mingw-w64\\\\x86_64-7.1.0-posix-seh-rt_v5-rev1\\\\mingw64\\\\bin'\n",
    "os.environ['PATH'] = mingw_path + ';' + os.environ['PATH']"
   ]
  },
  {
   "cell_type": "code",
   "execution_count": 2,
   "metadata": {
    "collapsed": false
   },
   "outputs": [
    {
     "name": "stderr",
     "output_type": "stream",
     "text": [
      "C:\\Users\\Joshua\\Anaconda3\\lib\\site-packages\\ipykernel\\pylab\\config.py:66: DeprecationWarning: metadata {'config': True} was set from the constructor.  Metadata should be set using the .tag() method, e.g., Int().tag(key1='value1', key2='value2')\n",
      "  inline backend.\"\"\"\n",
      "C:\\Users\\Joshua\\Anaconda3\\lib\\site-packages\\ipykernel\\pylab\\config.py:71: DeprecationWarning: metadata {'config': True} was set from the constructor.  Metadata should be set using the .tag() method, e.g., Int().tag(key1='value1', key2='value2')\n",
      "  'retina', 'jpeg', 'svg', 'pdf'.\"\"\")\n",
      "C:\\Users\\Joshua\\Anaconda3\\lib\\site-packages\\ipykernel\\pylab\\config.py:85: DeprecationWarning: metadata {'config': True} was set from the constructor.  Metadata should be set using the .tag() method, e.g., Int().tag(key1='value1', key2='value2')\n",
      "  use `figure_formats` instead)\"\"\")\n",
      "C:\\Users\\Joshua\\Anaconda3\\lib\\site-packages\\ipykernel\\pylab\\config.py:95: DeprecationWarning: metadata {'config': True} was set from the constructor.  Metadata should be set using the .tag() method, e.g., Int().tag(key1='value1', key2='value2')\n",
      "  \"\"\"\n",
      "C:\\Users\\Joshua\\Anaconda3\\lib\\site-packages\\ipykernel\\pylab\\config.py:114: DeprecationWarning: metadata {'config': True} was set from the constructor.  Metadata should be set using the .tag() method, e.g., Int().tag(key1='value1', key2='value2')\n",
      "  \"\"\")\n",
      "C:\\Users\\Joshua\\Anaconda3\\lib\\site-packages\\ipykernel\\pylab\\config.py:44: DeprecationWarning: InlineBackend._config_changed is deprecated: use @observe and @unobserve instead.\n",
      "  def _config_changed(self, name, old, new):\n",
      "C:\\Users\\Joshua\\Anaconda3\\lib\\site-packages\\traitlets\\traitlets.py:770: DeprecationWarning: A parent of InlineBackend._config_changed has adopted the new @observe(change) API\n",
      "  clsname, change_or_name), DeprecationWarning)\n",
      "C:\\Users\\Joshua\\Anaconda3\\lib\\site-packages\\IPython\\core\\formatters.py:98: DeprecationWarning: DisplayFormatter._formatters_default is deprecated: use @default decorator instead.\n",
      "  def _formatters_default(self):\n",
      "C:\\Users\\Joshua\\Anaconda3\\lib\\site-packages\\IPython\\core\\formatters.py:677: DeprecationWarning: PlainTextFormatter._deferred_printers_default is deprecated: use @default decorator instead.\n",
      "  def _deferred_printers_default(self):\n",
      "C:\\Users\\Joshua\\Anaconda3\\lib\\site-packages\\IPython\\core\\formatters.py:669: DeprecationWarning: PlainTextFormatter._singleton_printers_default is deprecated: use @default decorator instead.\n",
      "  def _singleton_printers_default(self):\n",
      "C:\\Users\\Joshua\\Anaconda3\\lib\\site-packages\\IPython\\core\\formatters.py:672: DeprecationWarning: PlainTextFormatter._type_printers_default is deprecated: use @default decorator instead.\n",
      "  def _type_printers_default(self):\n",
      "C:\\Users\\Joshua\\Anaconda3\\lib\\site-packages\\IPython\\core\\formatters.py:672: DeprecationWarning: PlainTextFormatter._type_printers_default is deprecated: use @default decorator instead.\n",
      "  def _type_printers_default(self):\n",
      "C:\\Users\\Joshua\\Anaconda3\\lib\\site-packages\\IPython\\core\\formatters.py:677: DeprecationWarning: PlainTextFormatter._deferred_printers_default is deprecated: use @default decorator instead.\n",
      "  def _deferred_printers_default(self):\n"
     ]
    }
   ],
   "source": [
    "import pandas as pd\n",
    "import numpy as np\n",
    "import matplotlib.pyplot as plt\n",
    "import math\n",
    "import time\n",
    "from sklearn.tree import DecisionTreeClassifier\n",
    "from sklearn.ensemble import RandomForestClassifier\n",
    "from sklearn.model_selection import cross_val_score\n",
    "import xgboost as xgb\n",
    "import gc\n",
    "%matplotlib inline"
   ]
  },
  {
   "cell_type": "code",
   "execution_count": 3,
   "metadata": {
    "collapsed": false
   },
   "outputs": [
    {
     "name": "stdout",
     "output_type": "stream",
     "text": [
      "Reading priors\n",
      "Reading orders\n",
      "Reading products\n",
      "Merging orders with priors\n",
      "Merging products with priors\n",
      "Finished\n"
     ]
    }
   ],
   "source": [
    "#Reading data into dataframes\n",
    "print(\"Reading priors\")\n",
    "order_products_p = pd.read_csv(\"../instacart_project/order_products__prior.csv\",\n",
    "                               dtype={\"order_id\":np.int32,\n",
    "                                      \"product_id\":np.int32,\n",
    "                                      \"add_to_cart_order\":np.int16,\n",
    "                                      \"reordered\":np.int8})\n",
    "\n",
    "print(\"Reading orders\")\n",
    "orders = pd.read_csv(\"../instacart_project/orders.csv\",\n",
    "                    dtype={\"order_id\":np.int32,\n",
    "                           \"user_id\":np.int32,\n",
    "                           \"order_number\":np.int8,\n",
    "                           \"order_dow\":np.int8,\n",
    "                           \"order_hour_of_day\":np.int8,\n",
    "                           \"days_since_prior_order\":np.float32})\n",
    "\n",
    "print(\"Reading products\")\n",
    "products = pd.read_csv(\"../instacart_project/products.csv\",\n",
    "                       dtype={\"product_id\":np.int32,\n",
    "                              \"aisle_id\":np.int16,\n",
    "                              \"department_id\":np.int8},usecols=[\"product_id\",\"aisle_id\",\"department_id\"])\n",
    "\n",
    "print(\"Merging orders with priors\")\n",
    "order_products_p = order_products_p.merge(orders,on=\"order_id\",how=\"inner\")\n",
    "\n",
    "print(\"Merging products with priors\")\n",
    "order_products_p = order_products_p.merge(products,on=\"product_id\",how=\"inner\")\n",
    "print(\"Finished\")"
   ]
  },
  {
   "cell_type": "code",
   "execution_count": 5,
   "metadata": {
    "collapsed": false
   },
   "outputs": [
    {
     "name": "stdout",
     "output_type": "stream",
     "text": [
      "Calculating orders by user\n",
      "Calculating product orders by user\n",
      "Calculating product reorders by user\n",
      "Calculating reorder ratio of user\n",
      "Calculating average days between orders for user\n",
      "Calculating unique products ordered by user\n",
      "Calculating number unique products ordered by user\n",
      "Calculating unique aisles ordered by user\n",
      "Calculating number unique aisles ordered by user\n",
      "Calculating unique departments ordered by user\n",
      "Calculating number unique departments ordered by user\n",
      "Finished\n"
     ]
    }
   ],
   "source": [
    "#User stats\n",
    "user_stats = pd.DataFrame()\n",
    "\n",
    "print(\"Calculating orders by user\")\n",
    "user_stats[\"orders_user\"] = (orders.groupby(\"user_id\").size()).astype(np.int16)\n",
    "\n",
    "print(\"Calculating product orders by user\")\n",
    "user_stats[\"product_orders_user\"] = (order_products_p.groupby(\"user_id\").count()[\"reordered\"]).astype(np.int16)\n",
    "\n",
    "print(\"Calculating product reorders by user\")\n",
    "user_stats[\"product_reorders_user\"] = (order_products_p.groupby(\"user_id\").sum()[\"reordered\"]).astype(np.int16)\n",
    "\n",
    "print(\"Calculating reorder ratio of user\")\n",
    "user_stats[\"reorder_ratio_user\"] = (user_stats[\"product_reorders_user\"]/\n",
    "                                    user_stats[\"product_orders_user\"]).astype(np.float32)\n",
    "\n",
    "print(\"Calculating average days between orders for user\")\n",
    "user_stats[\"avg_days_between_orders_user\"] = (orders.groupby(\"user_id\").mean()[\"days_since_prior_order\"]).astype(np.float32)\n",
    "\n",
    "print(\"Calculating unique products ordered by user\")\n",
    "user_stats[\"unique_products_ordered_user\"] = (order_products_p.groupby(\"user_id\")[\"product_id\"].apply(set))\n",
    "\n",
    "print(\"Calculating number unique products ordered by user\")\n",
    "user_stats[\"nb_unique_products_ordered_user\"] = (user_stats[\"unique_products_ordered_user\"].apply(len)).astype(np.int32)\n",
    "\n",
    "print(\"Calculating unique aisles ordered by user\")\n",
    "user_stats[\"unique_aisles_ordered_user\"] = (order_products_p.groupby(\"user_id\")[\"aisle_id\"].apply(set))\n",
    "\n",
    "print(\"Calculating number unique aisles ordered by user\")\n",
    "user_stats[\"nb_unique_aisles_ordered_user\"] = (user_stats[\"unique_aisles_ordered_user\"].apply(len)).astype(np.int16)\n",
    "\n",
    "print(\"Calculating unique departments ordered by user\")\n",
    "user_stats[\"unique_departments_ordered_user\"] = (order_products_p.groupby(\"user_id\")[\"department_id\"].apply(set))\n",
    "\n",
    "print(\"Calculating number unique departments ordered by user\")\n",
    "user_stats[\"nb_unique_departments_ordered_user\"] = (user_stats[\"unique_departments_ordered_user\"].apply(len)).astype(np.int16)\n",
    "\n",
    "print(\"Finished\")\n"
   ]
  },
  {
   "cell_type": "code",
   "execution_count": 6,
   "metadata": {
    "collapsed": false
   },
   "outputs": [
    {
     "name": "stdout",
     "output_type": "stream",
     "text": [
      "Calculating average add to cart position for product\n",
      "Calculating product orders for product\n",
      "Calculating product reorders for product\n",
      "Calculating reorder ratio for product\n",
      "Calculating product market share\n",
      "Finished\n"
     ]
    }
   ],
   "source": [
    "#Product stats\n",
    "product_stats = pd.DataFrame()\n",
    "\n",
    "print(\"Calculating average add to cart position for product\")\n",
    "product_stats[\"avg_add_to_cart_position_product\"] = (order_products_p.groupby(\"product_id\").mean()[\"add_to_cart_order\"]).astype(np.float32)\n",
    "\n",
    "print(\"Calculating product orders for product\")\n",
    "product_stats[\"product_orders_product\"] = (order_products_p.groupby(\"product_id\").count()[\"reordered\"]).astype(np.int32)\n",
    "\n",
    "print(\"Calculating product reorders for product\")\n",
    "product_stats[\"product_reorders_product\"] = (order_products_p.groupby(\"product_id\").sum()[\"reordered\"]).astype(np.int32)\n",
    "\n",
    "print(\"Calculating reorder ratio for product\")\n",
    "product_stats[\"reorder_ratio_product\"] = (product_stats.product_reorders_product/product_stats.product_orders_product).astype(np.float32)\n",
    "\n",
    "print(\"Calculating product market share\")\n",
    "total_product_orders = product_stats[\"product_reorders_product\"].sum()\n",
    "product_stats[\"product_market_share\"] = (product_stats[\"product_reorders_product\"]/total_product_orders).astype(np.float32).fillna(value=0)\n",
    "\n",
    "print(\"Finished\")"
   ]
  },
  {
   "cell_type": "code",
   "execution_count": 7,
   "metadata": {
    "collapsed": false
   },
   "outputs": [
    {
     "name": "stdout",
     "output_type": "stream",
     "text": [
      "Calculating reorders of product by user\n",
      "Joining order info from user_stats\n",
      "Calculating reorder ratio of product by user\n"
     ]
    }
   ],
   "source": [
    "#User product stats\n",
    "user_product_stats = pd.DataFrame()\n",
    "rel = [\"user_id\",\"product_id\"]\n",
    "\n",
    "print(\"Calculating reorders of product by user\")\n",
    "user_product_stats[\"product_reorders_UP\"] = (order_products_p.groupby(rel).sum()[\"reordered\"]).astype(np.int16)\n",
    "user_product_stats.reset_index(inplace=True)\n",
    "\n",
    "print(\"Joining order info from user_stats\")\n",
    "user_product_stats[\"user_orders_UP\"] = user_product_stats[\"user_id\"].map(user_stats[\"orders_user\"])\n",
    "\n",
    "print(\"Calculating reorder ratio of product by user\")\n",
    "user_product_stats[\"reorder_ratio_UP\"] = (user_product_stats[\"product_reorders_UP\"]/\n",
    "print(\"Finished\")                                          user_product_stats[\"user_orders_UP\"]).astype(np.float32)"
   ]
  },
  {
   "cell_type": "code",
   "execution_count": 8,
   "metadata": {
    "collapsed": false
   },
   "outputs": [
    {
     "name": "stdout",
     "output_type": "stream",
     "text": [
      "Calculating product reorder count statistics by user\n",
      "Calculating product reorder ratio statistics by user\n"
     ]
    }
   ],
   "source": [
    "#Product reorder count statistics by user\n",
    "print(\"Calculating product reorder count statistics by user\")\n",
    "user_stats[\"mean_product_reorder_count_user\"] = user_product_stats.groupby(\"user_id\").mean()[\"product_reorders_UP\"].astype(np.float32)\n",
    "user_stats[\"max_product_reorder_count_user\"] = user_product_stats.groupby(\"user_id\").max()[\"product_reorders_UP\"].astype(np.int16)\n",
    "user_stats[\"median_product_reorder_count_user\"] = user_product_stats.groupby(\"user_id\").median()[\"product_reorders_UP\"].astype(np.float32)\n",
    "\n",
    "#Product reorder ratio statistics by user\n",
    "print(\"Calculating product reorder ratio statistics by user\")\n",
    "user_stats[\"mean_product_reorder_ratio_user\"] = user_product_stats.groupby(\"user_id\").mean()[\"reorder_ratio_UP\"].astype(np.float32)\n",
    "user_stats[\"max_product_reorder_ratio_user\"] = user_product_stats.groupby(\"user_id\").max()[\"reorder_ratio_UP\"].astype(np.float32)\n",
    "user_stats[\"median_product_reorder_ratio_user\"] = user_product_stats.groupby(\"user_id\").median()[\"reorder_ratio_UP\"].astype(np.float32)\n",
    "print(\"Finished\")"
   ]
  },
  {
   "cell_type": "code",
   "execution_count": 9,
   "metadata": {
    "collapsed": false
   },
   "outputs": [
    {
     "name": "stdout",
     "output_type": "stream",
     "text": [
      "Calculating product orders for aisle\n",
      "Calculating product reorders for aisle\n",
      "Calculating reorder ratio for aisle\n",
      "Calculating product orders for department\n",
      "Calculating product reorders for department\n",
      "Calculating reorder ratio for department\n",
      "Calculating product order for user by aisle\n",
      "Calculating product reorders for user by aisle\n",
      "Calculating reorder ratio for user by aisle\n",
      "Calculating product order for user by department\n",
      "Calculating product reorders for user by department\n",
      "Calculating reorder ratio for user by department\n"
     ]
    }
   ],
   "source": [
    "count_ratio_entity_relationship_list = [\"aisle_id\",\n",
    "                                        \"department_id\",\n",
    "                                        [\"user_id\",\"aisle_id\"],\n",
    "                                        [\"user_id\",\"department_id\"]]\n",
    "entity_relationship_df_dict = {}\n",
    "\n",
    "for er in count_ratio_entity_relationship_list:\n",
    "    df = pd.DataFrame()\n",
    "    \n",
    "    if type(er) == str:\n",
    "        er_ = er.replace(\"_id\",\"\")\n",
    "        print(\"Calculating product orders for {0}\".format(er_))\n",
    "        df[\"product_orders_{0}\".format(er_)] = order_products_p.groupby(er).size().astype(np.int32)\n",
    "        \n",
    "        print(\"Calculating product reorders for {0}\".format(er_))\n",
    "        df[\"product_reorders_{0}\".format(er_)] = order_products_p.groupby(er).sum()[\"reordered\"].astype(np.int32)\n",
    "        \n",
    "        print(\"Calculating reorder ratio for {0}\".format(er_))\n",
    "        df[\"reorder_ratio_{0}\".format(er_)] = (df[\"product_reorders_{0}\".format(er_)]/\n",
    "                                               df[\"product_orders_{0}\".format(er_)]).astype(np.float32)\n",
    "        \n",
    "        entity_relationship_df_dict[er] = df\n",
    "    else:\n",
    "        er1_ = er[0].replace(\"_id\",\"\")\n",
    "        er2_ = er[1].replace(\"_id\",\"\")\n",
    "        \n",
    "        print(\"Calculating product order for {0} by {1}\".format(er1_,er2_))\n",
    "        df[\"product_orders_{0}_{1}\".format(er1_,er2_)] = order_products_p.groupby(er).size()\n",
    "        \n",
    "        print(\"Calculating product reorders for {0} by {1}\".format(er1_,er2_))\n",
    "        df[\"product_reorders_{0}_{1}\".format(er1_,er2_)] = order_products_p.groupby(er).sum()[\"reordered\"].astype(np.int32)\n",
    "        \n",
    "        print(\"Calculating reorder ratio for {0} by {1}\".format(er1_,er2_))\n",
    "        df[\"reorder_ratio_{0}_{1}\".format(er1_,er2_)] = (df[\"product_reorders_{0}_{1}\".format(er1_,er2_)]/\n",
    "                                                          df[\"product_orders_{0}_{1}\".format(er1_,er2_)]).astype(np.float32)\n",
    "        \n",
    "        entity_relationship_df_dict[tuple(er)] = df"
   ]
  },
  {
   "cell_type": "code",
   "execution_count": 10,
   "metadata": {
    "collapsed": false
   },
   "outputs": [
    {
     "name": "stdout",
     "output_type": "stream",
     "text": [
      "Calculating reorder count\n",
      "Calculating order count\n",
      "Calculating reorder ratio\n",
      "Mapping order number\n",
      "Calculating last to first reorder count ratio\n",
      "Calculating last to first reorder ratio ratio\n",
      "Finished\n"
     ]
    }
   ],
   "source": [
    "orders.set_index([\"order_id\"],inplace=True)\n",
    "\n",
    "temp = pd.DataFrame()\n",
    "\n",
    "print(\"Calculating reorder count\")\n",
    "temp[\"product_reorder_count_by_user_by_order\"] = order_products_p.groupby([\"user_id\",\"order_id\"]).sum()[\"reordered\"]\n",
    "\n",
    "print(\"Calculating order count\")\n",
    "temp[\"product_order_count_by_user_by_order\"] = order_products_p.groupby([\"user_id\",\"order_id\"]).size()\n",
    "\n",
    "print(\"Calculating reorder ratio\")\n",
    "temp[\"product_reorder_ratio_by_user_by_order\"] = temp[\"product_reorder_count_by_user_by_order\"]/temp[\"product_order_count_by_user_by_order\"]\n",
    "temp.reset_index(inplace=True)\n",
    "\n",
    "print(\"Mapping order number\")\n",
    "temp[\"order_number\"] = temp[\"order_id\"].map(orders[\"order_number\"])\n",
    "temp.sort_values(by=[\"user_id\",\"order_number\"],inplace=True)\n",
    "\n",
    "print(\"Calculating last to first reorder count ratio\")\n",
    "user_stats[\"last_to_first_reorder_count_ratio\"] = (temp.groupby(\"user_id\").agg({\"product_reorder_count_by_user_by_order\":lambda x:x.iloc[-1]})/\n",
    "                                                   temp.groupby(\"user_id\").agg({\"product_reorder_count_by_user_by_order\":lambda x:x.iloc[1]})) \\\n",
    "                                                   .astype(np.float32).fillna(value=0)\n",
    "\n",
    "print(\"Calculating last to first reorder ratio ratio\")\n",
    "user_stats[\"last_to_first_reorder_ratio_ratio\"] = (temp.groupby(\"user_id\").agg({\"product_reorder_ratio_by_user_by_order\":lambda x:x.iloc[-1]})/\n",
    "                                                   temp.groupby(\"user_id\").agg({\"product_reorder_ratio_by_user_by_order\":lambda x:x.iloc[1]})) \\\n",
    "                                                   .astype(np.float32).fillna(value=0)\n",
    "\n",
    "user_stats[\"last_to_first_reorder_count_ratio\"] = user_stats[\"last_to_first_reorder_count_ratio\"].replace([np.inf, -np.inf], 0)\n",
    "user_stats[\"last_to_first_reorder_ratio_ratio\"] = user_stats[\"last_to_first_reorder_ratio_ratio\"].replace([np.inf, -np.inf], 0)\n",
    "\n",
    "del temp\n",
    "\n",
    "print(\"Finished\")"
   ]
  },
  {
   "cell_type": "code",
   "execution_count": 11,
   "metadata": {
    "collapsed": false
   },
   "outputs": [
    {
     "name": "stdout",
     "output_type": "stream",
     "text": [
      "dataset train - orders, users\n",
      "dataset train - products, users\n",
      "dataset train - products, users, orders, number, dow, hour_of_day\n",
      "dataset train added labels\n",
      "dataset train - products, users, orders, number, dow, hour_of_day, aisle, dept\n",
      "dataset test - orders, users\n",
      "dataset test - products, users\n",
      "dataset test - products, users, orders, number, dow, hour_of_day\n",
      "dataset test - products, users, orders, number, dow, hour_of_day, aisle, dept\n",
      "Finished\n"
     ]
    }
   ],
   "source": [
    "#Make train and test datasets\n",
    "\n",
    "orders.reset_index(inplace=True)\n",
    "products.set_index(\"product_id\",drop=True,inplace=True)\n",
    "\n",
    "def make_train_test(train_test):\n",
    "    users = orders[orders[\"eval_set\"] == train_test][\"user_id\"].unique()\n",
    "    dataset = orders[orders[\"user_id\"].isin(users)][[\"order_id\",\"user_id\"]]\n",
    "    print(\"dataset %s - orders, users\" % (train_test))\n",
    "    dataset = order_products_p[[\"order_id\",\"product_id\"]].merge(dataset,on=\"order_id\",how=\"inner\")\n",
    "    dataset.drop([\"order_id\"],axis=\"columns\",inplace=True)\n",
    "    print(\"dataset %s - products, users\" % (train_test))\n",
    "    \n",
    "    cols = [\"order_id\",\"user_id\",\"order_number\",\"order_dow\",\"order_hour_of_day\"]\n",
    "    dataset = dataset.merge(orders[orders[\"eval_set\"]==train_test][cols],on=\"user_id\",how=\"inner\")\n",
    "    print(\"dataset %s - products, users, orders, number, dow, hour_of_day\" % (train_test))\n",
    "    \n",
    "    if train_test == \"train\":\n",
    "        order_products_t = pd.read_csv(\"../instacart_project/order_products__train.csv\",\n",
    "                                       dtype={\"order_id\":np.int32,\n",
    "                                              \"product_id\":np.int32,\n",
    "                                              \"reordered\":np.int8},\n",
    "                                       usecols=[\"order_id\",\"product_id\",\"reordered\"])\n",
    "        dataset = dataset.merge(order_products_t,on=[\"order_id\",\"product_id\"],how=\"left\")\n",
    "        print(\"dataset train added labels\")\n",
    "        del order_products_t\n",
    "        dataset[\"reordered\"].fillna(0,inplace=True)\n",
    "        dataset[\"reordered\"] = dataset[\"reordered\"].astype(np.int8)\n",
    "    \n",
    "    dataset.drop_duplicates(subset=[\"order_id\",\"product_id\"],inplace=True)\n",
    "    \n",
    "    product_cols = [\"aisle_id\",\"department_id\"]\n",
    "    for c in product_cols:\n",
    "        dataset[c] = dataset[\"product_id\"].map(products[c])\n",
    "    print(\"dataset %s - products, users, orders, number, dow, hour_of_day, aisle, dept\" % (train_test))\n",
    "    \n",
    "    return dataset\n",
    "\n",
    "train = make_train_test(\"train\")\n",
    "test = make_train_test(\"test\")\n",
    "del products, orders, order_products_p\n",
    "cols = [\"order_number\",\"order_dow\",\"order_hour_of_day\",\"aisle_id\",\"department_id\"]\n",
    "print(\"Finished\")"
   ]
  },
  {
   "cell_type": "code",
   "execution_count": 12,
   "metadata": {
    "collapsed": true
   },
   "outputs": [],
   "source": [
    "for c in user_stats.columns:\n",
    "    train[c] = train[\"user_id\"].map(user_stats[c])\n",
    "    test[c] = test[\"user_id\"].map(user_stats[c])\n",
    "    \n",
    "for c in product_stats.columns:\n",
    "    train[c] = train[\"product_id\"].map(product_stats[c])\n",
    "    test[c] = test[\"product_id\"].map(product_stats[c])\n",
    "    \n",
    "for c in entity_relationship_df_dict[\"aisle_id\"].columns:\n",
    "    train[c] = train[\"aisle_id\"].map(entity_relationship_df_dict[\"aisle_id\"][c])\n",
    "    test[c] = test[\"aisle_id\"].map(entity_relationship_df_dict[\"aisle_id\"][c])\n",
    "    \n",
    "for c in entity_relationship_df_dict[\"department_id\"].columns:\n",
    "    train[c] = train[\"department_id\"].map(entity_relationship_df_dict[\"department_id\"][c])\n",
    "    test[c] = test[\"department_id\"].map(entity_relationship_df_dict[\"department_id\"][c])"
   ]
  },
  {
   "cell_type": "code",
   "execution_count": 13,
   "metadata": {
    "collapsed": false
   },
   "outputs": [
    {
     "name": "stdout",
     "output_type": "stream",
     "text": [
      "Joining user product stats\n",
      "Joining user aisle stats\n",
      "Joining user department stats\n"
     ]
    }
   ],
   "source": [
    "print(\"Joining user product stats\")\n",
    "train = train.merge(user_product_stats,on=[\"user_id\",\"product_id\"],how=\"inner\")\n",
    "test = test.merge(user_product_stats,on=[\"user_id\",\"product_id\"],how=\"inner\")\n",
    "\n",
    "print(\"Joining user aisle stats\")\n",
    "entity_relationship_df_dict[(\"user_id\",\"aisle_id\")].reset_index(inplace=True)\n",
    "train = train.merge(entity_relationship_df_dict[(\"user_id\",\"aisle_id\")],on=[\"user_id\",\"aisle_id\"],how=\"inner\")\n",
    "test = test.merge(entity_relationship_df_dict[(\"user_id\",\"aisle_id\")],on=[\"user_id\",\"aisle_id\"],how=\"inner\")\n",
    "\n",
    "print(\"Joining user department stats\")\n",
    "entity_relationship_df_dict[(\"user_id\",\"department_id\")].reset_index(inplace=True)\n",
    "train = train.merge(entity_relationship_df_dict[(\"user_id\",\"department_id\")],on=[\"user_id\",\"department_id\"],how=\"inner\")\n",
    "test = test.merge(entity_relationship_df_dict[(\"user_id\",\"department_id\")],on=[\"user_id\",\"department_id\"],how=\"inner\")"
   ]
  },
  {
   "cell_type": "code",
   "execution_count": 13,
   "metadata": {
    "collapsed": false
   },
   "outputs": [],
   "source": [
    "cols = train.columns.values.tolist()[3:]\n",
    "\n",
    "cols.remove(\"unique_products_ordered_user\")\n",
    "cols.remove(\"unique_aisles_ordered_user\")\n",
    "cols.remove(\"unique_departments_ordered_user\")\n",
    "cols.remove(\"reordered\")"
   ]
  },
  {
   "cell_type": "code",
   "execution_count": 14,
   "metadata": {
    "collapsed": false
   },
   "outputs": [
    {
     "name": "stderr",
     "output_type": "stream",
     "text": [
      "C:\\Users\\Joshua\\Anaconda3\\lib\\site-packages\\IPython\\core\\formatters.py:92: DeprecationWarning: DisplayFormatter._ipython_display_formatter_default is deprecated: use @default decorator instead.\n",
      "  def _ipython_display_formatter_default(self):\n",
      "C:\\Users\\Joshua\\Anaconda3\\lib\\site-packages\\IPython\\core\\formatters.py:669: DeprecationWarning: PlainTextFormatter._singleton_printers_default is deprecated: use @default decorator instead.\n",
      "  def _singleton_printers_default(self):\n"
     ]
    },
    {
     "data": {
      "text/plain": [
       "11880"
      ]
     },
     "execution_count": 14,
     "metadata": {},
     "output_type": "execute_result"
    }
   ],
   "source": [
    "del user_stats, product_stats, user_product_stats, entity_relationship_df_dict\n",
    "gc.collect()"
   ]
  },
  {
   "cell_type": "code",
   "execution_count": 16,
   "metadata": {
    "collapsed": false
   },
   "outputs": [],
   "source": [
    "model = xgb.XGBClassifier(max_depth = 7, n_estimators=100, n_jobs=-1, random_state=1)"
   ]
  },
  {
   "cell_type": "code",
   "execution_count": 18,
   "metadata": {
    "collapsed": false
   },
   "outputs": [
    {
     "data": {
      "text/plain": [
       "XGBClassifier(base_score=0.5, booster='gbtree', colsample_bylevel=1,\n",
       "       colsample_bytree=1, gamma=0, learning_rate=0.1, max_delta_step=0,\n",
       "       max_depth=7, min_child_weight=1, missing=None, n_estimators=100,\n",
       "       n_jobs=-1, nthread=None, objective='binary:logistic',\n",
       "       random_state=1, reg_alpha=0, reg_lambda=1, scale_pos_weight=1,\n",
       "       seed=None, silent=True, subsample=1)"
      ]
     },
     "execution_count": 18,
     "metadata": {},
     "output_type": "execute_result"
    }
   ],
   "source": [
    "#cols = [\"reorder_ratio_UP\",\"reorder_ratio_product\",\"avg_add_to_cart_position_product\",\"product_reorders_product\",\n",
    "#        \"product_orders_product\",\"avg_days_between_orders_user\",\"product_reorders_UP\",\"mean_product_reorder_ratio_user\",\n",
    "#        \"product_market_share\",\"reorder_ratio_user_aisle\",\"reorder_ratio_user_department\",\"product_orders_user\"]\n",
    "cols = [\"reorder_ratio_UP\",\"reorder_ratio_product\",\"avg_add_to_cart_position_product\",\"product_reorders_product\",\n",
    "        \"product_orders_product\",\"avg_days_between_orders_user\",\"product_reorders_UP\",\"mean_product_reorder_ratio_user\",\n",
    "        \"product_market_share\",\"reorder_ratio_user_aisle\",\"reorder_ratio_user_department\",\"product_orders_user\",\"order_number\"]\n",
    "model.fit(train[cols],train[\"reordered\"])"
   ]
  },
  {
   "cell_type": "code",
   "execution_count": 19,
   "metadata": {
    "collapsed": true
   },
   "outputs": [],
   "source": [
    "preds = model.predict_proba(test[cols])"
   ]
  },
  {
   "cell_type": "code",
   "execution_count": 22,
   "metadata": {
    "collapsed": true
   },
   "outputs": [],
   "source": [
    "preds_bool = [True if x >= 0.22 else False for x in preds[:,1]]\n",
    "test_order_id = test[\"order_id\"].unique()\n",
    "submission = pd.DataFrame()\n",
    "submission[\"products\"] = test[preds_bool].groupby(\"order_id\")[\"product_id\"].apply(list)\n",
    "submission[\"products\"] = submission[\"products\"].apply(lambda x:\" \".join([str(y) for y in x]))\n",
    "test_order_id = np.setdiff1d(test_order_id,submission.index.values)\n",
    "submission = pd.concat(objs = [submission,\n",
    "                               pd.DataFrame(data = [\"None\"]*len(test_order_id),\n",
    "                                            index = test_order_id,\n",
    "                                            columns = [\"products\"])])\n",
    "\n",
    "submission.reset_index(inplace=True)\n",
    "submission.rename(columns={\"index\":\"order_id\"},inplace=True)\n",
    "submission.to_csv(\"../instacart_project/submission.csv\",index=False)"
   ]
  },
  {
   "cell_type": "code",
   "execution_count": null,
   "metadata": {
    "collapsed": false
   },
   "outputs": [],
   "source": [
    "cols = train.columns.values.tolist()[3:]\n",
    "\n",
    "cols.remove(\"unique_products_ordered_user\")\n",
    "cols.remove(\"unique_aisles_ordered_user\")\n",
    "cols.remove(\"unique_departments_ordered_user\")\n",
    "cols.remove(\"reordered\")\n",
    "\n",
    "scores = cross_val_score(estimator = model, X = train[cols], y = train[\"reordered\"], scoring=\"f1\", cv = 2, n_jobs=-1)\n",
    "print(scores.mean())"
   ]
  },
  {
   "cell_type": "code",
   "execution_count": 25,
   "metadata": {
    "collapsed": false
   },
   "outputs": [
    {
     "name": "stdout",
     "output_type": "stream",
     "text": [
      "reorder_ratio_UP : 0.757143\n",
      "order_number : 0.142857\n",
      "reorder_ratio_product : 0.1\n",
      "avg_days_between_orders_user : 0.0\n",
      "mean_product_reorder_ratio_user : 0.0\n",
      "median_product_reorder_count_user : 0.0\n",
      "max_product_reorder_count_user : 0.0\n",
      "mean_product_reorder_count_user : 0.0\n",
      "nb_unique_departments_ordered_user : 0.0\n",
      "nb_unique_aisles_ordered_user : 0.0\n",
      "nb_unique_products_ordered_user : 0.0\n",
      "reorder_ratio_user : 0.0\n",
      "median_product_reorder_ratio_user : 0.0\n",
      "product_reorders_user : 0.0\n",
      "product_orders_user : 0.0\n",
      "orders_user : 0.0\n",
      "department_id : 0.0\n",
      "aisle_id : 0.0\n",
      "order_hour_of_day : 0.0\n",
      "order_dow : 0.0\n",
      "max_product_reorder_ratio_user : 0.0\n",
      "reorder_ratio_user_department : 0.0\n",
      "last_to_first_reorder_count_ratio : 0.0\n",
      "product_reorders_department : 0.0\n",
      "product_orders_user_department : 0.0\n",
      "reorder_ratio_user_aisle : 0.0\n",
      "product_reorders_user_aisle : 0.0\n",
      "product_orders_user_aisle : 0.0\n",
      "user_orders_UP : 0.0\n",
      "product_reorders_UP : 0.0\n",
      "reorder_ratio_department : 0.0\n",
      "product_orders_department : 0.0\n",
      "product_reorders_user_department : 0.0\n",
      "reorder_ratio_aisle : 0.0\n",
      "product_reorders_aisle : 0.0\n",
      "product_orders_aisle : 0.0\n",
      "product_market_share : 0.0\n",
      "product_reorders_product : 0.0\n",
      "product_orders_product : 0.0\n",
      "avg_add_to_cart_position_product : 0.0\n",
      "last_to_first_reorder_ratio_ratio : 0.0\n"
     ]
    }
   ],
   "source": [
    "importances = model.feature_importances_\n",
    "indices = np.argsort(importances)[::-1]\n",
    "\n",
    "for x in indices:\n",
    "    print(cols[x], \":\", importances[x])\n",
    "    \n",
    "cols = [\"reorder_ratio_UP\",\"order_number\",\"reorder_ratio_product\"]"
   ]
  },
  {
   "cell_type": "markdown",
   "metadata": {},
   "source": [
    "Optimal threshold is between 0.3 and 0.35"
   ]
  },
  {
   "cell_type": "code",
   "execution_count": 22,
   "metadata": {
    "collapsed": false
   },
   "outputs": [],
   "source": [
    "preds_bool = [True if x >= 0.35 else False for x in preds[:,1]]\n",
    "test_order_id = test[\"order_id\"].unique()\n",
    "submission = pd.DataFrame()\n",
    "submission[\"products\"] = test[preds_bool].groupby(\"order_id\")[\"product_id\"].apply(list)\n",
    "submission[\"products\"] = submission[\"products\"].apply(lambda x:\" \".join([str(y) for y in x]))\n",
    "test_order_id = np.setdiff1d(test_order_id,submission.index.values)\n",
    "submission = pd.concat(objs = [submission,\n",
    "                               pd.DataFrame(data = [\"None\"]*len(test_order_id),\n",
    "                                            index = test_order_id,\n",
    "                                            columns = [\"products\"])])\n",
    "\n",
    "submission.reset_index(inplace=True)\n",
    "submission.rename(columns={\"index\":\"order_id\"},inplace=True)\n",
    "submission.to_csv(\"../instacart_project/submission.csv\",index=False)"
   ]
  },
  {
   "cell_type": "code",
   "execution_count": 20,
   "metadata": {
    "collapsed": false
   },
   "outputs": [
    {
     "data": {
      "text/html": [
       "<div>\n",
       "<table border=\"1\" class=\"dataframe\">\n",
       "  <thead>\n",
       "    <tr style=\"text-align: right;\">\n",
       "      <th></th>\n",
       "      <th>product_id</th>\n",
       "      <th>user_id</th>\n",
       "      <th>order_id</th>\n",
       "      <th>order_number</th>\n",
       "      <th>order_dow</th>\n",
       "      <th>order_hour_of_day</th>\n",
       "      <th>reordered</th>\n",
       "      <th>aisle_id</th>\n",
       "      <th>department_id</th>\n",
       "      <th>orders_user</th>\n",
       "      <th>...</th>\n",
       "      <th>reorder_ratio_department</th>\n",
       "      <th>product_reorders_UP</th>\n",
       "      <th>user_orders_UP</th>\n",
       "      <th>reorder_ratio_UP</th>\n",
       "      <th>product_orders_user_aisle</th>\n",
       "      <th>product_reorders_user_aisle</th>\n",
       "      <th>reorder_ratio_user_aisle</th>\n",
       "      <th>product_orders_user_department</th>\n",
       "      <th>product_reorders_user_department</th>\n",
       "      <th>reorder_ratio_user_department</th>\n",
       "    </tr>\n",
       "  </thead>\n",
       "  <tbody>\n",
       "    <tr>\n",
       "      <th>0</th>\n",
       "      <td>33120</td>\n",
       "      <td>202279</td>\n",
       "      <td>1050357</td>\n",
       "      <td>9</td>\n",
       "      <td>1</td>\n",
       "      <td>14</td>\n",
       "      <td>1</td>\n",
       "      <td>86</td>\n",
       "      <td>16</td>\n",
       "      <td>9</td>\n",
       "      <td>...</td>\n",
       "      <td>0.669969</td>\n",
       "      <td>4</td>\n",
       "      <td>9</td>\n",
       "      <td>0.444444</td>\n",
       "      <td>6</td>\n",
       "      <td>4</td>\n",
       "      <td>0.666667</td>\n",
       "      <td>11</td>\n",
       "      <td>6</td>\n",
       "      <td>0.545455</td>\n",
       "    </tr>\n",
       "    <tr>\n",
       "      <th>1</th>\n",
       "      <td>14218</td>\n",
       "      <td>202279</td>\n",
       "      <td>1050357</td>\n",
       "      <td>9</td>\n",
       "      <td>1</td>\n",
       "      <td>14</td>\n",
       "      <td>0</td>\n",
       "      <td>86</td>\n",
       "      <td>16</td>\n",
       "      <td>9</td>\n",
       "      <td>...</td>\n",
       "      <td>0.669969</td>\n",
       "      <td>0</td>\n",
       "      <td>9</td>\n",
       "      <td>0.000000</td>\n",
       "      <td>6</td>\n",
       "      <td>4</td>\n",
       "      <td>0.666667</td>\n",
       "      <td>11</td>\n",
       "      <td>6</td>\n",
       "      <td>0.545455</td>\n",
       "    </tr>\n",
       "    <tr>\n",
       "      <th>2</th>\n",
       "      <td>12545</td>\n",
       "      <td>202279</td>\n",
       "      <td>1050357</td>\n",
       "      <td>9</td>\n",
       "      <td>1</td>\n",
       "      <td>14</td>\n",
       "      <td>0</td>\n",
       "      <td>91</td>\n",
       "      <td>16</td>\n",
       "      <td>9</td>\n",
       "      <td>...</td>\n",
       "      <td>0.669969</td>\n",
       "      <td>2</td>\n",
       "      <td>9</td>\n",
       "      <td>0.222222</td>\n",
       "      <td>4</td>\n",
       "      <td>2</td>\n",
       "      <td>0.500000</td>\n",
       "      <td>11</td>\n",
       "      <td>6</td>\n",
       "      <td>0.545455</td>\n",
       "    </tr>\n",
       "    <tr>\n",
       "      <th>3</th>\n",
       "      <td>432</td>\n",
       "      <td>202279</td>\n",
       "      <td>1050357</td>\n",
       "      <td>9</td>\n",
       "      <td>1</td>\n",
       "      <td>14</td>\n",
       "      <td>0</td>\n",
       "      <td>91</td>\n",
       "      <td>16</td>\n",
       "      <td>9</td>\n",
       "      <td>...</td>\n",
       "      <td>0.669969</td>\n",
       "      <td>0</td>\n",
       "      <td>9</td>\n",
       "      <td>0.000000</td>\n",
       "      <td>4</td>\n",
       "      <td>2</td>\n",
       "      <td>0.500000</td>\n",
       "      <td>11</td>\n",
       "      <td>6</td>\n",
       "      <td>0.545455</td>\n",
       "    </tr>\n",
       "    <tr>\n",
       "      <th>4</th>\n",
       "      <td>27531</td>\n",
       "      <td>202279</td>\n",
       "      <td>1050357</td>\n",
       "      <td>9</td>\n",
       "      <td>1</td>\n",
       "      <td>14</td>\n",
       "      <td>0</td>\n",
       "      <td>53</td>\n",
       "      <td>16</td>\n",
       "      <td>9</td>\n",
       "      <td>...</td>\n",
       "      <td>0.669969</td>\n",
       "      <td>0</td>\n",
       "      <td>9</td>\n",
       "      <td>0.000000</td>\n",
       "      <td>1</td>\n",
       "      <td>0</td>\n",
       "      <td>0.000000</td>\n",
       "      <td>11</td>\n",
       "      <td>6</td>\n",
       "      <td>0.545455</td>\n",
       "    </tr>\n",
       "    <tr>\n",
       "      <th>5</th>\n",
       "      <td>28985</td>\n",
       "      <td>202279</td>\n",
       "      <td>1050357</td>\n",
       "      <td>9</td>\n",
       "      <td>1</td>\n",
       "      <td>14</td>\n",
       "      <td>0</td>\n",
       "      <td>83</td>\n",
       "      <td>4</td>\n",
       "      <td>9</td>\n",
       "      <td>...</td>\n",
       "      <td>0.649913</td>\n",
       "      <td>4</td>\n",
       "      <td>9</td>\n",
       "      <td>0.444444</td>\n",
       "      <td>13</td>\n",
       "      <td>10</td>\n",
       "      <td>0.769231</td>\n",
       "      <td>20</td>\n",
       "      <td>14</td>\n",
       "      <td>0.700000</td>\n",
       "    </tr>\n",
       "    <tr>\n",
       "      <th>6</th>\n",
       "      <td>17794</td>\n",
       "      <td>202279</td>\n",
       "      <td>1050357</td>\n",
       "      <td>9</td>\n",
       "      <td>1</td>\n",
       "      <td>14</td>\n",
       "      <td>0</td>\n",
       "      <td>83</td>\n",
       "      <td>4</td>\n",
       "      <td>9</td>\n",
       "      <td>...</td>\n",
       "      <td>0.649913</td>\n",
       "      <td>6</td>\n",
       "      <td>9</td>\n",
       "      <td>0.666667</td>\n",
       "      <td>13</td>\n",
       "      <td>10</td>\n",
       "      <td>0.769231</td>\n",
       "      <td>20</td>\n",
       "      <td>14</td>\n",
       "      <td>0.700000</td>\n",
       "    </tr>\n",
       "    <tr>\n",
       "      <th>7</th>\n",
       "      <td>24933</td>\n",
       "      <td>202279</td>\n",
       "      <td>1050357</td>\n",
       "      <td>9</td>\n",
       "      <td>1</td>\n",
       "      <td>14</td>\n",
       "      <td>0</td>\n",
       "      <td>83</td>\n",
       "      <td>4</td>\n",
       "      <td>9</td>\n",
       "      <td>...</td>\n",
       "      <td>0.649913</td>\n",
       "      <td>0</td>\n",
       "      <td>9</td>\n",
       "      <td>0.000000</td>\n",
       "      <td>13</td>\n",
       "      <td>10</td>\n",
       "      <td>0.769231</td>\n",
       "      <td>20</td>\n",
       "      <td>14</td>\n",
       "      <td>0.700000</td>\n",
       "    </tr>\n",
       "    <tr>\n",
       "      <th>8</th>\n",
       "      <td>43668</td>\n",
       "      <td>202279</td>\n",
       "      <td>1050357</td>\n",
       "      <td>9</td>\n",
       "      <td>1</td>\n",
       "      <td>14</td>\n",
       "      <td>0</td>\n",
       "      <td>123</td>\n",
       "      <td>4</td>\n",
       "      <td>9</td>\n",
       "      <td>...</td>\n",
       "      <td>0.649913</td>\n",
       "      <td>2</td>\n",
       "      <td>9</td>\n",
       "      <td>0.222222</td>\n",
       "      <td>7</td>\n",
       "      <td>4</td>\n",
       "      <td>0.571429</td>\n",
       "      <td>20</td>\n",
       "      <td>14</td>\n",
       "      <td>0.700000</td>\n",
       "    </tr>\n",
       "    <tr>\n",
       "      <th>9</th>\n",
       "      <td>35106</td>\n",
       "      <td>202279</td>\n",
       "      <td>1050357</td>\n",
       "      <td>9</td>\n",
       "      <td>1</td>\n",
       "      <td>14</td>\n",
       "      <td>0</td>\n",
       "      <td>123</td>\n",
       "      <td>4</td>\n",
       "      <td>9</td>\n",
       "      <td>...</td>\n",
       "      <td>0.649913</td>\n",
       "      <td>2</td>\n",
       "      <td>9</td>\n",
       "      <td>0.222222</td>\n",
       "      <td>7</td>\n",
       "      <td>4</td>\n",
       "      <td>0.571429</td>\n",
       "      <td>20</td>\n",
       "      <td>14</td>\n",
       "      <td>0.700000</td>\n",
       "    </tr>\n",
       "  </tbody>\n",
       "</table>\n",
       "<p>10 rows × 48 columns</p>\n",
       "</div>"
      ],
      "text/plain": [
       "   product_id  user_id  order_id  order_number  order_dow  order_hour_of_day  \\\n",
       "0       33120   202279   1050357             9          1                 14   \n",
       "1       14218   202279   1050357             9          1                 14   \n",
       "2       12545   202279   1050357             9          1                 14   \n",
       "3         432   202279   1050357             9          1                 14   \n",
       "4       27531   202279   1050357             9          1                 14   \n",
       "5       28985   202279   1050357             9          1                 14   \n",
       "6       17794   202279   1050357             9          1                 14   \n",
       "7       24933   202279   1050357             9          1                 14   \n",
       "8       43668   202279   1050357             9          1                 14   \n",
       "9       35106   202279   1050357             9          1                 14   \n",
       "\n",
       "   reordered  aisle_id  department_id  orders_user  \\\n",
       "0          1        86             16            9   \n",
       "1          0        86             16            9   \n",
       "2          0        91             16            9   \n",
       "3          0        91             16            9   \n",
       "4          0        53             16            9   \n",
       "5          0        83              4            9   \n",
       "6          0        83              4            9   \n",
       "7          0        83              4            9   \n",
       "8          0       123              4            9   \n",
       "9          0       123              4            9   \n",
       "\n",
       "               ...                reorder_ratio_department  \\\n",
       "0              ...                                0.669969   \n",
       "1              ...                                0.669969   \n",
       "2              ...                                0.669969   \n",
       "3              ...                                0.669969   \n",
       "4              ...                                0.669969   \n",
       "5              ...                                0.649913   \n",
       "6              ...                                0.649913   \n",
       "7              ...                                0.649913   \n",
       "8              ...                                0.649913   \n",
       "9              ...                                0.649913   \n",
       "\n",
       "   product_reorders_UP  user_orders_UP  reorder_ratio_UP  \\\n",
       "0                    4               9          0.444444   \n",
       "1                    0               9          0.000000   \n",
       "2                    2               9          0.222222   \n",
       "3                    0               9          0.000000   \n",
       "4                    0               9          0.000000   \n",
       "5                    4               9          0.444444   \n",
       "6                    6               9          0.666667   \n",
       "7                    0               9          0.000000   \n",
       "8                    2               9          0.222222   \n",
       "9                    2               9          0.222222   \n",
       "\n",
       "  product_orders_user_aisle  product_reorders_user_aisle  \\\n",
       "0                         6                            4   \n",
       "1                         6                            4   \n",
       "2                         4                            2   \n",
       "3                         4                            2   \n",
       "4                         1                            0   \n",
       "5                        13                           10   \n",
       "6                        13                           10   \n",
       "7                        13                           10   \n",
       "8                         7                            4   \n",
       "9                         7                            4   \n",
       "\n",
       "  reorder_ratio_user_aisle  product_orders_user_department  \\\n",
       "0                 0.666667                              11   \n",
       "1                 0.666667                              11   \n",
       "2                 0.500000                              11   \n",
       "3                 0.500000                              11   \n",
       "4                 0.000000                              11   \n",
       "5                 0.769231                              20   \n",
       "6                 0.769231                              20   \n",
       "7                 0.769231                              20   \n",
       "8                 0.571429                              20   \n",
       "9                 0.571429                              20   \n",
       "\n",
       "  product_reorders_user_department  reorder_ratio_user_department  \n",
       "0                                6                       0.545455  \n",
       "1                                6                       0.545455  \n",
       "2                                6                       0.545455  \n",
       "3                                6                       0.545455  \n",
       "4                                6                       0.545455  \n",
       "5                               14                       0.700000  \n",
       "6                               14                       0.700000  \n",
       "7                               14                       0.700000  \n",
       "8                               14                       0.700000  \n",
       "9                               14                       0.700000  \n",
       "\n",
       "[10 rows x 48 columns]"
      ]
     },
     "execution_count": 20,
     "metadata": {},
     "output_type": "execute_result"
    }
   ],
   "source": [
    "train.head(10)"
   ]
  },
  {
   "cell_type": "code",
   "execution_count": 15,
   "metadata": {
    "collapsed": false
   },
   "outputs": [
    {
     "data": {
      "text/plain": [
       "RandomForestClassifier(bootstrap=True, class_weight=None, criterion='gini',\n",
       "            max_depth=None, max_features='auto', max_leaf_nodes=None,\n",
       "            min_impurity_split=1e-07, min_samples_leaf=1,\n",
       "            min_samples_split=2, min_weight_fraction_leaf=0.0,\n",
       "            n_estimators=10, n_jobs=-1, oob_score=False, random_state=1,\n",
       "            verbose=0, warm_start=False)"
      ]
     },
     "execution_count": 15,
     "metadata": {},
     "output_type": "execute_result"
    }
   ],
   "source": [
    "rfc = RandomForestClassifier(n_estimators = 10, n_jobs = -1, random_state=1)\n",
    "rfc.fit(train[cols],train[\"reordered\"])"
   ]
  },
  {
   "cell_type": "code",
   "execution_count": 17,
   "metadata": {
    "collapsed": false
   },
   "outputs": [
    {
     "name": "stdout",
     "output_type": "stream",
     "text": [
      "[34 24 21 23 22  9 32 16 25 37 40  6  8 13 20 10 38 11 19  7  2 39 35 17 12\n",
      " 28 36  1  3 14 26  5 27  0 33 31  4 18 29 30 15]\n",
      "reorder_ratio_UP : 0.077573601533\n",
      "reorder_ratio_product : 0.0440669855223\n",
      "avg_add_to_cart_position_product : 0.0397655580433\n",
      "product_reorders_product : 0.0363216545742\n",
      "product_orders_product : 0.0362968306693\n",
      "avg_days_between_orders_user : 0.03570513132\n",
      "product_reorders_UP : 0.0356622608967\n",
      "mean_product_reorder_ratio_user : 0.0349693343296\n",
      "product_market_share : 0.0347450854198\n",
      "reorder_ratio_user_aisle : 0.0333728725634\n",
      "reorder_ratio_user_department : 0.0304211012946\n",
      "product_orders_user : 0.0303088376667\n",
      "reorder_ratio_user : 0.0296858287389\n",
      "mean_product_reorder_count_user : 0.0296509036122\n",
      "last_to_first_reorder_ratio_ratio : 0.0290696467059\n",
      "nb_unique_products_ordered_user : 0.0285922480088\n",
      "product_orders_user_department : 0.0270918177038\n",
      "nb_unique_aisles_ordered_user : 0.026693595866\n",
      "last_to_first_reorder_count_ratio : 0.0264694495986\n",
      "product_reorders_user : 0.0262239426051\n",
      "order_hour_of_day : 0.0260813287151\n",
      "product_reorders_user_department : 0.0220766236294\n",
      "product_orders_user_aisle : 0.021585119095\n",
      "max_product_reorder_ratio_user : 0.0213419484028\n",
      "nb_unique_departments_ordered_user : 0.0188666830588\n",
      "reorder_ratio_aisle : 0.0184421396792\n",
      "product_reorders_user_aisle : 0.0179102058006\n",
      "order_dow : 0.0165367649211\n",
      "aisle_id : 0.0161945628303\n",
      "max_product_reorder_count_user : 0.0149264503878\n",
      "product_orders_aisle : 0.0147415729451\n",
      "orders_user : 0.0147364865031\n",
      "product_reorders_aisle : 0.0146367602512\n",
      "order_number : 0.0136336068689\n",
      "user_orders_UP : 0.0134496559746\n",
      "reorder_ratio_department : 0.00828902287637\n",
      "department_id : 0.00814733130538\n",
      "median_product_reorder_ratio_user : 0.00794311006215\n",
      "product_orders_department : 0.00740892319967\n",
      "product_reorders_department : 0.00731209587182\n",
      "median_product_reorder_count_user : 0.00305292094938\n"
     ]
    }
   ],
   "source": [
    "importances = rfc.feature_importances_\n",
    "indices = np.argsort(importances)[::-1]\n",
    "print(indices)\n",
    "\n",
    "for x in indices:\n",
    "    print(cols[x], \":\", importances[x])\n",
    "\n",
    "cols = [\"reorder_ratio_UP\",\"reorder_ratio_product\",\"avg_add_to_cart_position_product\",\"product_reorders_product\",\n",
    "        \"product_orders_product\",\"avg_days_between_orders_user\",\"product_reorders_UP\",\"mean_product_reorder_ratio_user\",\n",
    "        \"product_market_share\",\"reorder_ratio_user_aisle\",\"reorder_ratio_user_department\",\"product_orders_user\",\"order_num\"]"
   ]
  },
  {
   "cell_type": "code",
   "execution_count": 32,
   "metadata": {
    "collapsed": false
   },
   "outputs": [],
   "source": [
    "cols_to_analyse = [[\"order_number\",\"order_dow\",\"order_hour_of_day\",\"aisle_id\",\"department_id\"],\n",
    "                   [\"avg_days_between_orders_user\"],\n",
    "                   [\"nb_unique_products_ordered_user\",\"nb_unique_aisles_ordered_user\",\"nb_unique_departments_ordered_user\"],\n",
    "                   [\"avg_add_to_cart_position_product\",\"product_orders_product\",\"product_reorders_product\",\"reorder_ratio_product\",\"product_market_share\"],\n",
    "                   [\"mean_product_reorder_count_user\",\"max_product_reorder_count_user\",\"median_product_reorder_count_user\",\"mean_product_reorder_ratio_user\",\"max_product_reorder_ratio_user\",\"median_product_reorder_ratio_user\"],\n",
    "                   [\"last_to_first_reorder_count_ratio\",\"last_to_first_reorder_ratio_ratio\"],\n",
    "                   [\"product_orders_aisle\",\"product_reorders_aisle\",\"reorder_ratio_aisle\"],\n",
    "                   [\"product_orders_department\",\"product_reorders_department\",\"reorder_ratio_department\"],\n",
    "                   [\"product_reorders_UP\",\"user_orders_UP\",\"reorder_ratio_UP\"],\n",
    "                   ['product_orders_user_aisle','product_reorders_user_aisle','reorder_ratio_user_aisle]'],\n",
    "                   ['product_orders_user_department','product_reorders_user_department','reorder_ratio_user_department]']]"
   ]
  },
  {
   "cell_type": "code",
   "execution_count": 34,
   "metadata": {
    "collapsed": false
   },
   "outputs": [
    {
     "name": "stdout",
     "output_type": "stream",
     "text": [
      "['order_number', 'order_dow', 'order_hour_of_day', 'aisle_id', 'department_id'] \n",
      "\n",
      "CV Score:  0.0227366434493\n",
      "['avg_days_between_orders_user'] \n",
      "\n",
      "CV Score:  0.00350327689559\n",
      "['nb_unique_products_ordered_user', 'nb_unique_aisles_ordered_user', 'nb_unique_departments_ordered_user'] \n",
      "\n",
      "CV Score:  0.0210828194619\n",
      "['avg_add_to_cart_position_product', 'product_orders_product', 'product_reorders_product', 'reorder_ratio_product', 'product_market_share'] \n",
      "\n",
      "CV Score:  0.000552292037527\n",
      "['mean_product_reorder_count_user', 'max_product_reorder_count_user', 'median_product_reorder_count_user', 'mean_product_reorder_ratio_user', 'max_product_reorder_ratio_user', 'median_product_reorder_ratio_user'] \n",
      "\n",
      "CV Score:  0.0309586189096\n",
      "['last_to_first_reorder_count_ratio', 'last_to_first_reorder_ratio_ratio'] \n",
      "\n",
      "CV Score:  0.0174032912203\n",
      "['product_orders_aisle', 'product_reorders_aisle', 'reorder_ratio_aisle'] \n",
      "\n",
      "CV Score:  0.0\n",
      "['product_orders_department', 'product_reorders_department', 'reorder_ratio_department'] \n",
      "\n",
      "CV Score:  0.0\n",
      "['product_reorders_UP', 'user_orders_UP', 'reorder_ratio_UP'] \n",
      "\n",
      "CV Score:  0.194047362279\n",
      "['product_orders_user_aisle', 'product_reorders_user_aisle', 'reorder_ratio_user_aisle]'] \n",
      "\n",
      "CV Score:  0.0108013910192\n",
      "['product_orders_user_department', 'product_reorders_user_department', 'reorder_ratio_user_department]'] \n",
      "\n",
      "CV Score:  0.00603204871003\n"
     ]
    }
   ],
   "source": [
    "for c in cols_to_analyse:\n",
    "    scores = cross_val_score(estimator = rfc, X = train[c], y = train[\"reordered\"], scoring=\"f1\", n_jobs=-1)\n",
    "    print(c, \"\\n\\nCV Score: \",scores.mean())"
   ]
  },
  {
   "cell_type": "code",
   "execution_count": 35,
   "metadata": {
    "collapsed": false
   },
   "outputs": [
    {
     "data": {
      "text/plain": [
       "<matplotlib.axes._subplots.AxesSubplot at 0x56d0db72e8>"
      ]
     },
     "execution_count": 35,
     "metadata": {},
     "output_type": "execute_result"
    },
    {
     "data": {
      "image/png": "[encoded data removed]",
      "text/plain": [
       "<matplotlib.figure.Figure at 0x56d12bf0b8>"
      ]
     },
     "metadata": {},
     "output_type": "display_data"
    }
   ],
   "source": [
    "train.reorder_ratio_UP.hist(bins=10)"
   ]
  },
  {
   "cell_type": "code",
   "execution_count": 37,
   "metadata": {
    "collapsed": false
   },
   "outputs": [
    {
     "data": {
      "text/plain": [
       "<matplotlib.axes._subplots.AxesSubplot at 0x56d52f37b8>"
      ]
     },
     "execution_count": 37,
     "metadata": {},
     "output_type": "execute_result"
    },
    {
     "data": {
      "image/png": "[encoded data removed]",
      "text/plain": [
       "<matplotlib.figure.Figure at 0x56d141dcf8>"
      ]
     },
     "metadata": {},
     "output_type": "display_data"
    }
   ],
   "source": [
    "train.reordered.hist(bins=2)"
   ]
  },
  {
   "cell_type": "code",
   "execution_count": 3,
   "metadata": {
    "collapsed": false
   },
   "outputs": [],
   "source": [
    "UP_stats = pd.DataFrame()\n",
    "UP_stats[\"reordered_ratio\"] = order_products_p.groupby([\"user_id\",\"product_id\"]).mean()[\"reordered\"]"
   ]
  },
  {
   "cell_type": "code",
   "execution_count": 4,
   "metadata": {
    "collapsed": false
   },
   "outputs": [
    {
     "data": {
      "text/plain": [
       "0.000000    7982695\n",
       "0.500000    2204600\n",
       "0.666667    1029149\n",
       "0.750000     579462\n",
       "0.800000     364763\n",
       "0.833333     248853\n",
       "0.857143     178054\n",
       "0.875000     132073\n",
       "0.888889     100651\n",
       "0.900000      78834\n",
       "0.909091      62830\n",
       "0.916667      50505\n",
       "0.923077      41755\n",
       "0.928571      34358\n",
       "0.933333      28494\n",
       "0.937500      24305\n",
       "0.941176      20476\n",
       "0.944444      17563\n",
       "0.947368      15121\n",
       "0.950000      12875\n",
       "0.952381      11174\n",
       "0.954545       9815\n",
       "0.956522       8540\n",
       "0.958333       7523\n",
       "0.960000       6650\n",
       "0.961538       6063\n",
       "0.962963       5302\n",
       "0.964286       4693\n",
       "0.965517       4149\n",
       "0.966667       3687\n",
       "             ...   \n",
       "0.986301         61\n",
       "0.985507         60\n",
       "0.986111         50\n",
       "0.985915         48\n",
       "0.986486         40\n",
       "0.987342         33\n",
       "0.986667         33\n",
       "0.987500         29\n",
       "0.986842         28\n",
       "0.988095         24\n",
       "0.987654         24\n",
       "0.987179         21\n",
       "0.987013         20\n",
       "0.987805         17\n",
       "0.987952         16\n",
       "0.988372         15\n",
       "0.988764         13\n",
       "0.989130         12\n",
       "0.988636         11\n",
       "0.988235         11\n",
       "0.988889         11\n",
       "0.989247         10\n",
       "0.989362         10\n",
       "0.988506          8\n",
       "0.989011          7\n",
       "0.989474          7\n",
       "0.989899          5\n",
       "0.989796          3\n",
       "0.989583          3\n",
       "0.989691          3\n",
       "Name: reordered_ratio, dtype: int64"
      ]
     },
     "execution_count": 4,
     "metadata": {},
     "output_type": "execute_result"
    }
   ],
   "source": [
    "UP_stats[\"reordered_ratio\"].value_counts()"
   ]
  },
  {
   "cell_type": "code",
   "execution_count": null,
   "metadata": {
    "collapsed": true
   },
   "outputs": [],
   "source": [
    "UP_stats[\"reordered_ratio\"].hist(bins=10)"
   ]
  }
 ],
 "metadata": {
  "kernelspec": {
   "display_name": "Python 3",
   "language": "python",
   "name": "python3"
  },
  "language_info": {
   "codemirror_mode": {
    "name": "ipython",
    "version": 3
   },
   "file_extension": ".py",
   "mimetype": "text/x-python",
   "name": "python",
   "nbconvert_exporter": "python",
   "pygments_lexer": "ipython3",
   "version": "3.5.3"
  }
 },
 "nbformat": 4,
 "nbformat_minor": 0
}
